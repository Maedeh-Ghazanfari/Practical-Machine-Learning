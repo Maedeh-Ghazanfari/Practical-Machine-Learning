{
 "cells": [
  {
   "cell_type": "code",
   "execution_count": 32,
   "id": "2958b16b-3095-419c-b5a1-6672842ddec8",
   "metadata": {
    "scrolled": true
   },
   "outputs": [],
   "source": [
    "import tensorflow as tf\n",
    "from sklearn.model_selection import train_test_split\n",
    "import torch\n",
    "from torchtext.data.utils import get_tokenizer\n",
    "from torch.nn.utils.rnn import pad_sequence\n",
    "from torchtext.vocab import build_vocab_from_iterator\n",
    "import re # for using regular expressions(regex)\n",
    "import string # Using this for preprocessing and cleaning the text (first time using it;))\n",
    "import pandas as pd"
   ]
  },
  {
   "cell_type": "markdown",
   "id": "2cbd0b97-41a3-4c48-9a2e-3bd0ae20ad32",
   "metadata": {},
   "source": [
    "#### Preprocessing"
   ]
  },
  {
   "cell_type": "code",
   "execution_count": 8,
   "id": "db33bda5-9f72-40f7-a5f2-b2e3162740b0",
   "metadata": {
    "scrolled": true
   },
   "outputs": [
    {
     "data": {
      "text/html": [
       "<div>\n",
       "<style scoped>\n",
       "    .dataframe tbody tr th:only-of-type {\n",
       "        vertical-align: middle;\n",
       "    }\n",
       "\n",
       "    .dataframe tbody tr th {\n",
       "        vertical-align: top;\n",
       "    }\n",
       "\n",
       "    .dataframe thead th {\n",
       "        text-align: right;\n",
       "    }\n",
       "</style>\n",
       "<table border=\"1\" class=\"dataframe\">\n",
       "  <thead>\n",
       "    <tr style=\"text-align: right;\">\n",
       "      <th></th>\n",
       "      <th>approveDate</th>\n",
       "      <th>commentBody</th>\n",
       "      <th>commentID</th>\n",
       "      <th>commentSequence</th>\n",
       "      <th>commentTitle</th>\n",
       "      <th>commentType</th>\n",
       "      <th>createDate</th>\n",
       "      <th>depth</th>\n",
       "      <th>editorsSelection</th>\n",
       "      <th>parentID</th>\n",
       "      <th>...</th>\n",
       "      <th>userLocation</th>\n",
       "      <th>userTitle</th>\n",
       "      <th>userURL</th>\n",
       "      <th>inReplyTo</th>\n",
       "      <th>articleID</th>\n",
       "      <th>sectionName</th>\n",
       "      <th>newDesk</th>\n",
       "      <th>articleWordCount</th>\n",
       "      <th>printPage</th>\n",
       "      <th>typeOfMaterial</th>\n",
       "    </tr>\n",
       "  </thead>\n",
       "  <tbody>\n",
       "    <tr>\n",
       "      <th>0</th>\n",
       "      <td>1491245186</td>\n",
       "      <td>This project makes me happy to be a 30+ year T...</td>\n",
       "      <td>22022598.0</td>\n",
       "      <td>22022598</td>\n",
       "      <td>&lt;br/&gt;</td>\n",
       "      <td>comment</td>\n",
       "      <td>1.491237e+09</td>\n",
       "      <td>1</td>\n",
       "      <td>False</td>\n",
       "      <td>0.0</td>\n",
       "      <td>...</td>\n",
       "      <td>Riverside, CA</td>\n",
       "      <td>NaN</td>\n",
       "      <td>NaN</td>\n",
       "      <td>0</td>\n",
       "      <td>58def1347c459f24986d7c80</td>\n",
       "      <td>Unknown</td>\n",
       "      <td>Insider</td>\n",
       "      <td>716.0</td>\n",
       "      <td>2</td>\n",
       "      <td>News</td>\n",
       "    </tr>\n",
       "    <tr>\n",
       "      <th>1</th>\n",
       "      <td>1491188619</td>\n",
       "      <td>Stunning photos and reportage. Infuriating tha...</td>\n",
       "      <td>22017350.0</td>\n",
       "      <td>22017350</td>\n",
       "      <td>NaN</td>\n",
       "      <td>comment</td>\n",
       "      <td>1.491180e+09</td>\n",
       "      <td>1</td>\n",
       "      <td>False</td>\n",
       "      <td>0.0</td>\n",
       "      <td>...</td>\n",
       "      <td>&lt;br/&gt;</td>\n",
       "      <td>NaN</td>\n",
       "      <td>NaN</td>\n",
       "      <td>0</td>\n",
       "      <td>58def1347c459f24986d7c80</td>\n",
       "      <td>Unknown</td>\n",
       "      <td>Insider</td>\n",
       "      <td>716.0</td>\n",
       "      <td>2</td>\n",
       "      <td>News</td>\n",
       "    </tr>\n",
       "    <tr>\n",
       "      <th>2</th>\n",
       "      <td>1491188617</td>\n",
       "      <td>Brilliant work from conception to execution. I...</td>\n",
       "      <td>22017334.0</td>\n",
       "      <td>22017334</td>\n",
       "      <td>&lt;br/&gt;</td>\n",
       "      <td>comment</td>\n",
       "      <td>1.491179e+09</td>\n",
       "      <td>1</td>\n",
       "      <td>False</td>\n",
       "      <td>0.0</td>\n",
       "      <td>...</td>\n",
       "      <td>Raleigh NC</td>\n",
       "      <td>NaN</td>\n",
       "      <td>NaN</td>\n",
       "      <td>0</td>\n",
       "      <td>58def1347c459f24986d7c80</td>\n",
       "      <td>Unknown</td>\n",
       "      <td>Insider</td>\n",
       "      <td>716.0</td>\n",
       "      <td>2</td>\n",
       "      <td>News</td>\n",
       "    </tr>\n",
       "    <tr>\n",
       "      <th>3</th>\n",
       "      <td>1491167820</td>\n",
       "      <td>NYT reporters should provide a contributor's l...</td>\n",
       "      <td>22015913.0</td>\n",
       "      <td>22015913</td>\n",
       "      <td>&lt;br/&gt;</td>\n",
       "      <td>comment</td>\n",
       "      <td>1.491150e+09</td>\n",
       "      <td>1</td>\n",
       "      <td>False</td>\n",
       "      <td>0.0</td>\n",
       "      <td>...</td>\n",
       "      <td>Missouri, USA</td>\n",
       "      <td>NaN</td>\n",
       "      <td>NaN</td>\n",
       "      <td>0</td>\n",
       "      <td>58def1347c459f24986d7c80</td>\n",
       "      <td>Unknown</td>\n",
       "      <td>Insider</td>\n",
       "      <td>716.0</td>\n",
       "      <td>2</td>\n",
       "      <td>News</td>\n",
       "    </tr>\n",
       "    <tr>\n",
       "      <th>4</th>\n",
       "      <td>1491167815</td>\n",
       "      <td>Could only have been done in print. Stunning.</td>\n",
       "      <td>22015466.0</td>\n",
       "      <td>22015466</td>\n",
       "      <td>&lt;br/&gt;</td>\n",
       "      <td>comment</td>\n",
       "      <td>1.491147e+09</td>\n",
       "      <td>1</td>\n",
       "      <td>False</td>\n",
       "      <td>0.0</td>\n",
       "      <td>...</td>\n",
       "      <td>Tucson, Arizona</td>\n",
       "      <td>NaN</td>\n",
       "      <td>NaN</td>\n",
       "      <td>0</td>\n",
       "      <td>58def1347c459f24986d7c80</td>\n",
       "      <td>Unknown</td>\n",
       "      <td>Insider</td>\n",
       "      <td>716.0</td>\n",
       "      <td>2</td>\n",
       "      <td>News</td>\n",
       "    </tr>\n",
       "  </tbody>\n",
       "</table>\n",
       "<p>5 rows × 34 columns</p>\n",
       "</div>"
      ],
      "text/plain": [
       "   approveDate                                        commentBody   commentID  \\\n",
       "0   1491245186  This project makes me happy to be a 30+ year T...  22022598.0   \n",
       "1   1491188619  Stunning photos and reportage. Infuriating tha...  22017350.0   \n",
       "2   1491188617  Brilliant work from conception to execution. I...  22017334.0   \n",
       "3   1491167820  NYT reporters should provide a contributor's l...  22015913.0   \n",
       "4   1491167815     Could only have been done in print. Stunning.   22015466.0   \n",
       "\n",
       "   commentSequence commentTitle commentType    createDate  depth  \\\n",
       "0         22022598        <br/>     comment  1.491237e+09      1   \n",
       "1         22017350          NaN     comment  1.491180e+09      1   \n",
       "2         22017334        <br/>     comment  1.491179e+09      1   \n",
       "3         22015913        <br/>     comment  1.491150e+09      1   \n",
       "4         22015466        <br/>     comment  1.491147e+09      1   \n",
       "\n",
       "   editorsSelection  parentID  ...     userLocation userTitle userURL  \\\n",
       "0             False       0.0  ...    Riverside, CA       NaN     NaN   \n",
       "1             False       0.0  ...            <br/>       NaN     NaN   \n",
       "2             False       0.0  ...       Raleigh NC       NaN     NaN   \n",
       "3             False       0.0  ...    Missouri, USA       NaN     NaN   \n",
       "4             False       0.0  ...  Tucson, Arizona       NaN     NaN   \n",
       "\n",
       "   inReplyTo                 articleID  sectionName  newDesk  \\\n",
       "0          0  58def1347c459f24986d7c80      Unknown  Insider   \n",
       "1          0  58def1347c459f24986d7c80      Unknown  Insider   \n",
       "2          0  58def1347c459f24986d7c80      Unknown  Insider   \n",
       "3          0  58def1347c459f24986d7c80      Unknown  Insider   \n",
       "4          0  58def1347c459f24986d7c80      Unknown  Insider   \n",
       "\n",
       "   articleWordCount printPage  typeOfMaterial  \n",
       "0             716.0         2            News  \n",
       "1             716.0         2            News  \n",
       "2             716.0         2            News  \n",
       "3             716.0         2            News  \n",
       "4             716.0         2            News  \n",
       "\n",
       "[5 rows x 34 columns]"
      ]
     },
     "execution_count": 8,
     "metadata": {},
     "output_type": "execute_result"
    }
   ],
   "source": [
    "# Loading dataset\n",
    "total_df = pd.read_csv(r'C:\\Users\\Lenovo\\Desktop\\my_random_projects\\RNN\\Comments\\CommentsApril2017.csv', low_memory=False)\n",
    "total_df.head()"
   ]
  },
  {
   "cell_type": "code",
   "execution_count": 9,
   "id": "fce68abd-8a7d-4b6a-af4a-d318fb926e6f",
   "metadata": {},
   "outputs": [
    {
     "data": {
      "text/plain": [
       "commentBody    object\n",
       "dtype: object"
      ]
     },
     "execution_count": 9,
     "metadata": {},
     "output_type": "execute_result"
    }
   ],
   "source": [
    "# Only keeping the comment column\n",
    "df = total_df[['commentBody']]\n",
    "df.dtypes"
   ]
  },
  {
   "cell_type": "markdown",
   "id": "c30de239-bc6c-45ec-817a-a5f1964d7df2",
   "metadata": {},
   "source": [
    "#### Data Cleaning"
   ]
  },
  {
   "cell_type": "code",
   "execution_count": 10,
   "id": "a2cb481e-573c-4a2c-ba6a-c90b1cc334fe",
   "metadata": {},
   "outputs": [
    {
     "data": {
      "text/plain": [
       "np.int64(0)"
      ]
     },
     "execution_count": 10,
     "metadata": {},
     "output_type": "execute_result"
    }
   ],
   "source": [
    "# Checking for null values\n",
    "df['commentBody'].isna().sum()\n",
    "# No null values;)"
   ]
  },
  {
   "cell_type": "code",
   "execution_count": 11,
   "id": "655b4eb1-65ec-45b5-8bd2-0267de1ad3d3",
   "metadata": {},
   "outputs": [],
   "source": [
    "# lowercasing \n",
    "df.loc[:,'commentBody'] = df['commentBody'].str.lower() # : tells to assign it to all rows for the commentBody"
   ]
  },
  {
   "cell_type": "code",
   "execution_count": 12,
   "id": "a7be0a21-bb9b-436c-9c77-918df75d2005",
   "metadata": {},
   "outputs": [
    {
     "name": "stderr",
     "output_type": "stream",
     "text": [
      "C:\\Users\\Lenovo\\AppData\\Local\\Temp\\ipykernel_1460\\939402487.py:2: SettingWithCopyWarning: \n",
      "A value is trying to be set on a copy of a slice from a DataFrame.\n",
      "Try using .loc[row_indexer,col_indexer] = value instead\n",
      "\n",
      "See the caveats in the documentation: https://pandas.pydata.org/pandas-docs/stable/user_guide/indexing.html#returning-a-view-versus-a-copy\n",
      "  df['commentBody'] = df['commentBody'].str.replace(f\"[{string.punctuation}]\", \"\", regex=True)\n"
     ]
    }
   ],
   "source": [
    "# removing punctuations\n",
    "df['commentBody'] = df['commentBody'].str.replace(f\"[{string.punctuation}]\", \"\", regex=True)"
   ]
  },
  {
   "cell_type": "code",
   "execution_count": 13,
   "id": "948d9296-0a1d-4d91-8930-732c25947d93",
   "metadata": {},
   "outputs": [
    {
     "data": {
      "text/html": [
       "<div>\n",
       "<style scoped>\n",
       "    .dataframe tbody tr th:only-of-type {\n",
       "        vertical-align: middle;\n",
       "    }\n",
       "\n",
       "    .dataframe tbody tr th {\n",
       "        vertical-align: top;\n",
       "    }\n",
       "\n",
       "    .dataframe thead th {\n",
       "        text-align: right;\n",
       "    }\n",
       "</style>\n",
       "<table border=\"1\" class=\"dataframe\">\n",
       "  <thead>\n",
       "    <tr style=\"text-align: right;\">\n",
       "      <th></th>\n",
       "      <th>commentBody</th>\n",
       "    </tr>\n",
       "  </thead>\n",
       "  <tbody>\n",
       "    <tr>\n",
       "      <th>0</th>\n",
       "      <td>this project makes me happy to be a 30 year ti...</td>\n",
       "    </tr>\n",
       "    <tr>\n",
       "      <th>1</th>\n",
       "      <td>stunning photos and reportage infuriating that...</td>\n",
       "    </tr>\n",
       "    <tr>\n",
       "      <th>2</th>\n",
       "      <td>brilliant work from conception to execution iv...</td>\n",
       "    </tr>\n",
       "    <tr>\n",
       "      <th>3</th>\n",
       "      <td>nyt reporters should provide a contributors li...</td>\n",
       "    </tr>\n",
       "    <tr>\n",
       "      <th>4</th>\n",
       "      <td>could only have been done in print stunning</td>\n",
       "    </tr>\n",
       "    <tr>\n",
       "      <th>...</th>\n",
       "      <td>...</td>\n",
       "    </tr>\n",
       "    <tr>\n",
       "      <th>243827</th>\n",
       "      <td>sorry but pudding has nothing to do with it de...</td>\n",
       "    </tr>\n",
       "    <tr>\n",
       "      <th>243828</th>\n",
       "      <td>while it would be quite punny to spell it dess...</td>\n",
       "    </tr>\n",
       "    <tr>\n",
       "      <th>243829</th>\n",
       "      <td>see above comments deserts is the proper</td>\n",
       "    </tr>\n",
       "    <tr>\n",
       "      <th>243830</th>\n",
       "      <td>john rubinstein had two brief scenes with joan...</td>\n",
       "    </tr>\n",
       "    <tr>\n",
       "      <th>243831</th>\n",
       "      <td>ye gods and little fishes stu youre right  if ...</td>\n",
       "    </tr>\n",
       "  </tbody>\n",
       "</table>\n",
       "<p>243832 rows × 1 columns</p>\n",
       "</div>"
      ],
      "text/plain": [
       "                                              commentBody\n",
       "0       this project makes me happy to be a 30 year ti...\n",
       "1       stunning photos and reportage infuriating that...\n",
       "2       brilliant work from conception to execution iv...\n",
       "3       nyt reporters should provide a contributors li...\n",
       "4            could only have been done in print stunning \n",
       "...                                                   ...\n",
       "243827  sorry but pudding has nothing to do with it de...\n",
       "243828  while it would be quite punny to spell it dess...\n",
       "243829           see above comments deserts is the proper\n",
       "243830  john rubinstein had two brief scenes with joan...\n",
       "243831  ye gods and little fishes stu youre right  if ...\n",
       "\n",
       "[243832 rows x 1 columns]"
      ]
     },
     "execution_count": 13,
     "metadata": {},
     "output_type": "execute_result"
    }
   ],
   "source": [
    "df"
   ]
  },
  {
   "cell_type": "code",
   "execution_count": 14,
   "id": "e751ba06-493c-42e0-9cbd-61dca0d49622",
   "metadata": {},
   "outputs": [
    {
     "name": "stderr",
     "output_type": "stream",
     "text": [
      "C:\\Users\\Lenovo\\AppData\\Local\\Temp\\ipykernel_1460\\1505533914.py:2: SettingWithCopyWarning: \n",
      "A value is trying to be set on a copy of a slice from a DataFrame.\n",
      "Try using .loc[row_indexer,col_indexer] = value instead\n",
      "\n",
      "See the caveats in the documentation: https://pandas.pydata.org/pandas-docs/stable/user_guide/indexing.html#returning-a-view-versus-a-copy\n",
      "  df['commentBody'] = df['commentBody'].apply(lambda x: re.sub(r'\\b\\d+\\b', '<NUM>', str(x))) # r'\\b\\d+\\b':This matches digits only when they stand alone.\n"
     ]
    }
   ],
   "source": [
    "# removing numbers\n",
    "df['commentBody'] = df['commentBody'].apply(lambda x: re.sub(r'\\b\\d+\\b', '<NUM>', str(x))) # r'\\b\\d+\\b':This matches digits only when they stand alone."
   ]
  },
  {
   "cell_type": "code",
   "execution_count": 15,
   "id": "bf9a19cd-49d0-41c4-a69a-644bdb73c5f5",
   "metadata": {},
   "outputs": [
    {
     "data": {
      "text/html": [
       "<div>\n",
       "<style scoped>\n",
       "    .dataframe tbody tr th:only-of-type {\n",
       "        vertical-align: middle;\n",
       "    }\n",
       "\n",
       "    .dataframe tbody tr th {\n",
       "        vertical-align: top;\n",
       "    }\n",
       "\n",
       "    .dataframe thead th {\n",
       "        text-align: right;\n",
       "    }\n",
       "</style>\n",
       "<table border=\"1\" class=\"dataframe\">\n",
       "  <thead>\n",
       "    <tr style=\"text-align: right;\">\n",
       "      <th></th>\n",
       "      <th>commentBody</th>\n",
       "    </tr>\n",
       "  </thead>\n",
       "  <tbody>\n",
       "    <tr>\n",
       "      <th>0</th>\n",
       "      <td>this project makes me happy to be a &lt;NUM&gt; year...</td>\n",
       "    </tr>\n",
       "    <tr>\n",
       "      <th>1</th>\n",
       "      <td>stunning photos and reportage infuriating that...</td>\n",
       "    </tr>\n",
       "    <tr>\n",
       "      <th>2</th>\n",
       "      <td>brilliant work from conception to execution iv...</td>\n",
       "    </tr>\n",
       "    <tr>\n",
       "      <th>3</th>\n",
       "      <td>nyt reporters should provide a contributors li...</td>\n",
       "    </tr>\n",
       "    <tr>\n",
       "      <th>4</th>\n",
       "      <td>could only have been done in print stunning</td>\n",
       "    </tr>\n",
       "    <tr>\n",
       "      <th>...</th>\n",
       "      <td>...</td>\n",
       "    </tr>\n",
       "    <tr>\n",
       "      <th>243827</th>\n",
       "      <td>sorry but pudding has nothing to do with it de...</td>\n",
       "    </tr>\n",
       "    <tr>\n",
       "      <th>243828</th>\n",
       "      <td>while it would be quite punny to spell it dess...</td>\n",
       "    </tr>\n",
       "    <tr>\n",
       "      <th>243829</th>\n",
       "      <td>see above comments deserts is the proper</td>\n",
       "    </tr>\n",
       "    <tr>\n",
       "      <th>243830</th>\n",
       "      <td>john rubinstein had two brief scenes with joan...</td>\n",
       "    </tr>\n",
       "    <tr>\n",
       "      <th>243831</th>\n",
       "      <td>ye gods and little fishes stu youre right  if ...</td>\n",
       "    </tr>\n",
       "  </tbody>\n",
       "</table>\n",
       "<p>243832 rows × 1 columns</p>\n",
       "</div>"
      ],
      "text/plain": [
       "                                              commentBody\n",
       "0       this project makes me happy to be a <NUM> year...\n",
       "1       stunning photos and reportage infuriating that...\n",
       "2       brilliant work from conception to execution iv...\n",
       "3       nyt reporters should provide a contributors li...\n",
       "4            could only have been done in print stunning \n",
       "...                                                   ...\n",
       "243827  sorry but pudding has nothing to do with it de...\n",
       "243828  while it would be quite punny to spell it dess...\n",
       "243829           see above comments deserts is the proper\n",
       "243830  john rubinstein had two brief scenes with joan...\n",
       "243831  ye gods and little fishes stu youre right  if ...\n",
       "\n",
       "[243832 rows x 1 columns]"
      ]
     },
     "execution_count": 15,
     "metadata": {},
     "output_type": "execute_result"
    }
   ],
   "source": [
    "df"
   ]
  },
  {
   "cell_type": "markdown",
   "id": "7cb9831c-d467-49a1-af21-4967df70ccbb",
   "metadata": {},
   "source": [
    "#### Train & Test split"
   ]
  },
  {
   "cell_type": "code",
   "execution_count": 16,
   "id": "38a7ced3-0c56-4561-b60f-a68785467722",
   "metadata": {},
   "outputs": [],
   "source": [
    "# split off test set first\n",
    "train_val_df, test_df = train_test_split(df, test_size=0.1, random_state=42)\n",
    "\n",
    "# split remaining into train and validation (e.g., 80/20 of remaining)\n",
    "train_df, val_df = train_test_split(train_val_df, test_size=0.2, random_state=42)\n",
    "\n",
    "train_df = train_df.reset_index(drop=True)\n",
    "val_df = val_df.reset_index(drop=True)\n",
    "test_df = test_df.reset_index(drop=True)"
   ]
  },
  {
   "cell_type": "markdown",
   "id": "9c55e64b-bb30-40df-bb73-8040cf19948b",
   "metadata": {},
   "source": [
    "#### Tokenization"
   ]
  },
  {
   "cell_type": "code",
   "execution_count": 17,
   "id": "19ccb761-0974-4530-b7ab-025b59352c3c",
   "metadata": {},
   "outputs": [],
   "source": [
    "tokenizer = get_tokenizer(\"basic_english\")"
   ]
  },
  {
   "cell_type": "code",
   "execution_count": 26,
   "id": "e416ba99-03f3-4e20-b0d7-fb06f758c230",
   "metadata": {},
   "outputs": [
    {
     "name": "stderr",
     "output_type": "stream",
     "text": [
      "C:\\Users\\Lenovo\\AppData\\Local\\Temp\\ipykernel_1460\\2105556198.py:2: SettingWithCopyWarning: \n",
      "A value is trying to be set on a copy of a slice from a DataFrame.\n",
      "Try using .loc[row_indexer,col_indexer] = value instead\n",
      "\n",
      "See the caveats in the documentation: https://pandas.pydata.org/pandas-docs/stable/user_guide/indexing.html#returning-a-view-versus-a-copy\n",
      "  df['tokens'] = df['commentBody'].apply(tokenizer)\n",
      "C:\\Users\\Lenovo\\AppData\\Local\\Temp\\ipykernel_1460\\2105556198.py:9: SettingWithCopyWarning: \n",
      "A value is trying to be set on a copy of a slice from a DataFrame.\n",
      "Try using .loc[row_indexer,col_indexer] = value instead\n",
      "\n",
      "See the caveats in the documentation: https://pandas.pydata.org/pandas-docs/stable/user_guide/indexing.html#returning-a-view-versus-a-copy\n",
      "  df['ids'] = df['tokens'].apply(lambda tokens: [vocab[token] for token in tokens])\n"
     ]
    }
   ],
   "source": [
    "# tokenize each row\n",
    "df['tokens'] = df['commentBody'].apply(tokenizer)\n",
    "\n",
    "# build vocab\n",
    "vocab = build_vocab_from_iterator(df['tokens'], specials=[\"<unk>\"])\n",
    "vocab.set_default_index(vocab[\"<unk>\"])  # unknown words map to <unk>\n",
    "\n",
    "# numericalize each token list\n",
    "df['ids'] = df['tokens'].apply(lambda tokens: [vocab[token] for token in tokens])\n"
   ]
  },
  {
   "cell_type": "code",
   "execution_count": 36,
   "id": "ed54a79f-0216-4112-973c-554b7f4ca063",
   "metadata": {},
   "outputs": [],
   "source": [
    "# Padding, since LSTM (RNN-based models requires fixed-length inputs.)\n",
    "seqs = [torch.tensor(x) for x in df['ids']]  # Convert each list to a tensor\n",
    "\n",
    "padded_seqs = pad_sequence(seqs, batch_first=True, padding_value=0)"
   ]
  },
  {
   "cell_type": "code",
   "execution_count": 37,
   "id": "af2d24f4-037e-498f-9dcf-e1debf0e038f",
   "metadata": {},
   "outputs": [
    {
     "data": {
      "text/plain": [
       "tensor([[   14,  1900,   284,  ...,     0,     0,     0],\n",
       "        [ 5001,  3487,     3,  ...,     0,     0,     0],\n",
       "        [ 1770,   125,    39,  ...,     0,     0,     0],\n",
       "        ...,\n",
       "        [  100,   846,   522,  ...,     0,     0,     0],\n",
       "        [ 1231, 87208,    71,  ...,     0,     0,     0],\n",
       "        [10994,  2781,     3,  ...,     0,     0,     0]])"
      ]
     },
     "execution_count": 37,
     "metadata": {},
     "output_type": "execute_result"
    }
   ],
   "source": [
    "padded_seqs"
   ]
  },
  {
   "cell_type": "code",
   "execution_count": null,
   "id": "fcf9a8f9-c4ff-4052-8f84-650bedea0cf7",
   "metadata": {},
   "outputs": [],
   "source": []
  }
 ],
 "metadata": {
  "kernelspec": {
   "display_name": "Python (tfenv)",
   "language": "python",
   "name": "tfenv"
  },
  "language_info": {
   "codemirror_mode": {
    "name": "ipython",
    "version": 3
   },
   "file_extension": ".py",
   "mimetype": "text/x-python",
   "name": "python",
   "nbconvert_exporter": "python",
   "pygments_lexer": "ipython3",
   "version": "3.10.18"
  }
 },
 "nbformat": 4,
 "nbformat_minor": 5
}
