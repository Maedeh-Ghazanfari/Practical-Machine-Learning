{
 "cells": [
  {
   "cell_type": "code",
   "execution_count": 16,
   "id": "859fc0f6-824f-4316-bc2d-da373aacb6df",
   "metadata": {},
   "outputs": [],
   "source": [
    "import tensorflow as tf\n",
    "import numpy as np\n",
    "import pandas as pd\n",
    "from sklearn.model_selection import train_test_split"
   ]
  },
  {
   "cell_type": "code",
   "execution_count": 17,
   "id": "184d84bc-4027-47c9-b3df-c60a97c00dcb",
   "metadata": {},
   "outputs": [],
   "source": [
    "df = pd.read_csv(r'C:\\Users\\Lenovo\\Desktop\\my_random_projects\\CNN\\train.csv')"
   ]
  },
  {
   "cell_type": "code",
   "execution_count": 18,
   "id": "1355dd24-c234-4346-ac47-4780a18e047d",
   "metadata": {},
   "outputs": [
    {
     "data": {
      "text/html": [
       "<div>\n",
       "<style scoped>\n",
       "    .dataframe tbody tr th:only-of-type {\n",
       "        vertical-align: middle;\n",
       "    }\n",
       "\n",
       "    .dataframe tbody tr th {\n",
       "        vertical-align: top;\n",
       "    }\n",
       "\n",
       "    .dataframe thead th {\n",
       "        text-align: right;\n",
       "    }\n",
       "</style>\n",
       "<table border=\"1\" class=\"dataframe\">\n",
       "  <thead>\n",
       "    <tr style=\"text-align: right;\">\n",
       "      <th></th>\n",
       "      <th>label</th>\n",
       "      <th>pixel0</th>\n",
       "      <th>pixel1</th>\n",
       "      <th>pixel2</th>\n",
       "      <th>pixel3</th>\n",
       "      <th>pixel4</th>\n",
       "      <th>pixel5</th>\n",
       "      <th>pixel6</th>\n",
       "      <th>pixel7</th>\n",
       "      <th>pixel8</th>\n",
       "      <th>...</th>\n",
       "      <th>pixel774</th>\n",
       "      <th>pixel775</th>\n",
       "      <th>pixel776</th>\n",
       "      <th>pixel777</th>\n",
       "      <th>pixel778</th>\n",
       "      <th>pixel779</th>\n",
       "      <th>pixel780</th>\n",
       "      <th>pixel781</th>\n",
       "      <th>pixel782</th>\n",
       "      <th>pixel783</th>\n",
       "    </tr>\n",
       "  </thead>\n",
       "  <tbody>\n",
       "    <tr>\n",
       "      <th>0</th>\n",
       "      <td>1</td>\n",
       "      <td>0</td>\n",
       "      <td>0</td>\n",
       "      <td>0</td>\n",
       "      <td>0</td>\n",
       "      <td>0</td>\n",
       "      <td>0</td>\n",
       "      <td>0</td>\n",
       "      <td>0</td>\n",
       "      <td>0</td>\n",
       "      <td>...</td>\n",
       "      <td>0</td>\n",
       "      <td>0</td>\n",
       "      <td>0</td>\n",
       "      <td>0</td>\n",
       "      <td>0</td>\n",
       "      <td>0</td>\n",
       "      <td>0</td>\n",
       "      <td>0</td>\n",
       "      <td>0</td>\n",
       "      <td>0</td>\n",
       "    </tr>\n",
       "    <tr>\n",
       "      <th>1</th>\n",
       "      <td>0</td>\n",
       "      <td>0</td>\n",
       "      <td>0</td>\n",
       "      <td>0</td>\n",
       "      <td>0</td>\n",
       "      <td>0</td>\n",
       "      <td>0</td>\n",
       "      <td>0</td>\n",
       "      <td>0</td>\n",
       "      <td>0</td>\n",
       "      <td>...</td>\n",
       "      <td>0</td>\n",
       "      <td>0</td>\n",
       "      <td>0</td>\n",
       "      <td>0</td>\n",
       "      <td>0</td>\n",
       "      <td>0</td>\n",
       "      <td>0</td>\n",
       "      <td>0</td>\n",
       "      <td>0</td>\n",
       "      <td>0</td>\n",
       "    </tr>\n",
       "    <tr>\n",
       "      <th>2</th>\n",
       "      <td>1</td>\n",
       "      <td>0</td>\n",
       "      <td>0</td>\n",
       "      <td>0</td>\n",
       "      <td>0</td>\n",
       "      <td>0</td>\n",
       "      <td>0</td>\n",
       "      <td>0</td>\n",
       "      <td>0</td>\n",
       "      <td>0</td>\n",
       "      <td>...</td>\n",
       "      <td>0</td>\n",
       "      <td>0</td>\n",
       "      <td>0</td>\n",
       "      <td>0</td>\n",
       "      <td>0</td>\n",
       "      <td>0</td>\n",
       "      <td>0</td>\n",
       "      <td>0</td>\n",
       "      <td>0</td>\n",
       "      <td>0</td>\n",
       "    </tr>\n",
       "    <tr>\n",
       "      <th>3</th>\n",
       "      <td>4</td>\n",
       "      <td>0</td>\n",
       "      <td>0</td>\n",
       "      <td>0</td>\n",
       "      <td>0</td>\n",
       "      <td>0</td>\n",
       "      <td>0</td>\n",
       "      <td>0</td>\n",
       "      <td>0</td>\n",
       "      <td>0</td>\n",
       "      <td>...</td>\n",
       "      <td>0</td>\n",
       "      <td>0</td>\n",
       "      <td>0</td>\n",
       "      <td>0</td>\n",
       "      <td>0</td>\n",
       "      <td>0</td>\n",
       "      <td>0</td>\n",
       "      <td>0</td>\n",
       "      <td>0</td>\n",
       "      <td>0</td>\n",
       "    </tr>\n",
       "    <tr>\n",
       "      <th>4</th>\n",
       "      <td>0</td>\n",
       "      <td>0</td>\n",
       "      <td>0</td>\n",
       "      <td>0</td>\n",
       "      <td>0</td>\n",
       "      <td>0</td>\n",
       "      <td>0</td>\n",
       "      <td>0</td>\n",
       "      <td>0</td>\n",
       "      <td>0</td>\n",
       "      <td>...</td>\n",
       "      <td>0</td>\n",
       "      <td>0</td>\n",
       "      <td>0</td>\n",
       "      <td>0</td>\n",
       "      <td>0</td>\n",
       "      <td>0</td>\n",
       "      <td>0</td>\n",
       "      <td>0</td>\n",
       "      <td>0</td>\n",
       "      <td>0</td>\n",
       "    </tr>\n",
       "  </tbody>\n",
       "</table>\n",
       "<p>5 rows × 785 columns</p>\n",
       "</div>"
      ],
      "text/plain": [
       "   label  pixel0  pixel1  pixel2  pixel3  pixel4  pixel5  pixel6  pixel7  \\\n",
       "0      1       0       0       0       0       0       0       0       0   \n",
       "1      0       0       0       0       0       0       0       0       0   \n",
       "2      1       0       0       0       0       0       0       0       0   \n",
       "3      4       0       0       0       0       0       0       0       0   \n",
       "4      0       0       0       0       0       0       0       0       0   \n",
       "\n",
       "   pixel8  ...  pixel774  pixel775  pixel776  pixel777  pixel778  pixel779  \\\n",
       "0       0  ...         0         0         0         0         0         0   \n",
       "1       0  ...         0         0         0         0         0         0   \n",
       "2       0  ...         0         0         0         0         0         0   \n",
       "3       0  ...         0         0         0         0         0         0   \n",
       "4       0  ...         0         0         0         0         0         0   \n",
       "\n",
       "   pixel780  pixel781  pixel782  pixel783  \n",
       "0         0         0         0         0  \n",
       "1         0         0         0         0  \n",
       "2         0         0         0         0  \n",
       "3         0         0         0         0  \n",
       "4         0         0         0         0  \n",
       "\n",
       "[5 rows x 785 columns]"
      ]
     },
     "execution_count": 18,
     "metadata": {},
     "output_type": "execute_result"
    }
   ],
   "source": [
    "df.head()"
   ]
  },
  {
   "cell_type": "code",
   "execution_count": 19,
   "id": "f8637931-1dc0-4b73-b1c3-6de149486916",
   "metadata": {
    "scrolled": true
   },
   "outputs": [],
   "source": [
    "y = df['label'].values\n",
    "# Needs labels like this for the loss function\n",
    "y_one_hot = tf.one_hot(y,depth=10) #depth shows count of classes\n",
    "X = df.drop('label', axis=1).values"
   ]
  },
  {
   "cell_type": "code",
   "execution_count": 20,
   "id": "3c2ebe70-db15-4b4e-b95c-caf6fdcac8ed",
   "metadata": {},
   "outputs": [],
   "source": [
    "X_train, X_val, y_train, y_val = train_test_split(\n",
    "    X, y, test_size=0.2, random_state=42)"
   ]
  },
  {
   "cell_type": "code",
   "execution_count": 21,
   "id": "42fce33f-a9ea-471b-b966-254abfe806f2",
   "metadata": {},
   "outputs": [
    {
     "data": {
      "text/plain": [
       "<tf.Tensor: shape=(42000, 10), dtype=float32, numpy=\n",
       "array([[0., 1., 0., ..., 0., 0., 0.],\n",
       "       [1., 0., 0., ..., 0., 0., 0.],\n",
       "       [0., 1., 0., ..., 0., 0., 0.],\n",
       "       ...,\n",
       "       [0., 0., 0., ..., 1., 0., 0.],\n",
       "       [0., 0., 0., ..., 0., 0., 0.],\n",
       "       [0., 0., 0., ..., 0., 0., 1.]], shape=(42000, 10), dtype=float32)>"
      ]
     },
     "execution_count": 21,
     "metadata": {},
     "output_type": "execute_result"
    }
   ],
   "source": [
    "y_one_hot"
   ]
  },
  {
   "cell_type": "code",
   "execution_count": 22,
   "id": "a95aa089-4447-40a9-84b4-6b33f7d25871",
   "metadata": {},
   "outputs": [],
   "source": [
    "X_train = X_train.reshape(-1, # -1 tells numpy to figure out count of rows on on your own;)\n",
    "              28,28 # Height and Width\n",
    "              ,1) # Channels\n",
    "\n",
    "X_val = X_val.reshape(-1, \n",
    "              28,28 \n",
    "              ,1)"
   ]
  },
  {
   "cell_type": "code",
   "execution_count": 23,
   "id": "3fe6f925-7d55-4bed-9916-fd753ca88b4a",
   "metadata": {},
   "outputs": [],
   "source": [
    "X_train = X_train / 255 # Normalizing because Neural Networks train better and faster!\n",
    "X_val = X_val / 255"
   ]
  },
  {
   "cell_type": "markdown",
   "id": "87157e29-32f6-4379-9154-4f4d1b41ab2b",
   "metadata": {},
   "source": [
    "#### Initializing layers"
   ]
  },
  {
   "cell_type": "code",
   "execution_count": 24,
   "id": "199e9a0f-ceb4-483e-9dab-20bb48f016c5",
   "metadata": {},
   "outputs": [],
   "source": [
    "conv_layer1 = tf.keras.layers.Conv2D( \n",
    "    filters=32, kernel_size=(3, 3), strides=(1, 1), padding='valid', \n",
    "    activation='relu', kernel_initializer='glorot_uniform')\n",
    "\n",
    "conv_layer2 = tf.keras.layers.Conv2D( \n",
    "    filters=32, kernel_size=(3, 3), strides=(1,1), padding='valid', \n",
    "    activation='relu', kernel_initializer='glorot_uniform')\n",
    "\n",
    "max_pooling_layer = tf.keras.layers.MaxPool2D(\n",
    "    pool_size=(2,2), strides=None, padding='valid', data_format=None)\n",
    "\n",
    "conv_layer3 = tf.keras.layers.Conv2D( \n",
    "    filters=32, kernel_size=(3, 3), strides=(1,1), padding='valid', \n",
    "    activation='relu', kernel_initializer='glorot_uniform')\n",
    "\n",
    "max_pooling_layer2 = tf.keras.layers.MaxPool2D(\n",
    "    pool_size=(2,2), strides=None, padding='valid', data_format=None)\n",
    "\n",
    "fully_connected_layer1 = tf.keras.layers.Dense(\n",
    "    units=128, activation='relu', kernel_initializer='glorot_uniform') \n",
    "\n",
    "fully_connected_layer2 = tf.keras.layers.Dense(\n",
    "    units=128, activation='softmax', kernel_initializer='glorot_uniform') "
   ]
  },
  {
   "cell_type": "markdown",
   "id": "6ecb8732-9dd6-4eb4-aebc-04c074883e9d",
   "metadata": {},
   "source": [
    "#### Initializing the model"
   ]
  },
  {
   "cell_type": "code",
   "execution_count": 25,
   "id": "9cae60aa-51c9-465f-a4e0-5dad12622598",
   "metadata": {},
   "outputs": [],
   "source": [
    "model = tf.keras.models.Sequential([conv_layer1,\n",
    "                           conv_layer2,\n",
    "                           max_pooling_layer,\n",
    "                           conv_layer3,\n",
    "                           max_pooling_layer2,\n",
    "                           tf.keras.layers.Flatten(), \n",
    "                           fully_connected_layer1,\n",
    "                           tf.keras.layers.Dropout(0.5), # added this to reduce overfitting -> as a result got a better accuracy on validation set.\n",
    "                           fully_connected_layer2],\n",
    "                                  )"
   ]
  },
  {
   "cell_type": "markdown",
   "id": "eda4934a-a943-4302-9319-d5c2806c3ed6",
   "metadata": {},
   "source": [
    "#### Initializing compiling"
   ]
  },
  {
   "cell_type": "code",
   "execution_count": 26,
   "id": "30d51e36-2776-4deb-b689-9631b6a05027",
   "metadata": {},
   "outputs": [],
   "source": [
    "model.compile(\n",
    "    optimizer='adam',\n",
    "    loss='sparse_categorical_crossentropy',\n",
    "    metrics=['accuracy'] \n",
    ")"
   ]
  },
  {
   "cell_type": "code",
   "execution_count": 28,
   "id": "d373441b-720b-4cbd-8664-b00882026d44",
   "metadata": {},
   "outputs": [
    {
     "name": "stdout",
     "output_type": "stream",
     "text": [
      "Epoch 1/10\n",
      "\u001b[1m525/525\u001b[0m \u001b[32m━━━━━━━━━━━━━━━━━━━━\u001b[0m\u001b[37m\u001b[0m \u001b[1m22s\u001b[0m 41ms/step - accuracy: 0.9917 - loss: 0.0270 - val_accuracy: 0.9910 - val_loss: 0.0287\n",
      "Epoch 2/10\n",
      "\u001b[1m525/525\u001b[0m \u001b[32m━━━━━━━━━━━━━━━━━━━━\u001b[0m\u001b[37m\u001b[0m \u001b[1m21s\u001b[0m 41ms/step - accuracy: 0.9915 - loss: 0.0274 - val_accuracy: 0.9912 - val_loss: 0.0268\n",
      "Epoch 3/10\n",
      "\u001b[1m525/525\u001b[0m \u001b[32m━━━━━━━━━━━━━━━━━━━━\u001b[0m\u001b[37m\u001b[0m \u001b[1m22s\u001b[0m 41ms/step - accuracy: 0.9929 - loss: 0.0219 - val_accuracy: 0.9918 - val_loss: 0.0265\n",
      "Epoch 4/10\n",
      "\u001b[1m525/525\u001b[0m \u001b[32m━━━━━━━━━━━━━━━━━━━━\u001b[0m\u001b[37m\u001b[0m \u001b[1m21s\u001b[0m 41ms/step - accuracy: 0.9921 - loss: 0.0233 - val_accuracy: 0.9923 - val_loss: 0.0275\n",
      "Epoch 5/10\n",
      "\u001b[1m525/525\u001b[0m \u001b[32m━━━━━━━━━━━━━━━━━━━━\u001b[0m\u001b[37m\u001b[0m \u001b[1m22s\u001b[0m 41ms/step - accuracy: 0.9935 - loss: 0.0191 - val_accuracy: 0.9894 - val_loss: 0.0343\n",
      "Epoch 6/10\n",
      "\u001b[1m525/525\u001b[0m \u001b[32m━━━━━━━━━━━━━━━━━━━━\u001b[0m\u001b[37m\u001b[0m \u001b[1m21s\u001b[0m 41ms/step - accuracy: 0.9934 - loss: 0.0187 - val_accuracy: 0.9923 - val_loss: 0.0275\n",
      "Epoch 7/10\n",
      "\u001b[1m525/525\u001b[0m \u001b[32m━━━━━━━━━━━━━━━━━━━━\u001b[0m\u001b[37m\u001b[0m \u001b[1m22s\u001b[0m 41ms/step - accuracy: 0.9942 - loss: 0.0170 - val_accuracy: 0.9911 - val_loss: 0.0339\n",
      "Epoch 8/10\n",
      "\u001b[1m525/525\u001b[0m \u001b[32m━━━━━━━━━━━━━━━━━━━━\u001b[0m\u001b[37m\u001b[0m \u001b[1m20s\u001b[0m 39ms/step - accuracy: 0.9951 - loss: 0.0158 - val_accuracy: 0.9917 - val_loss: 0.0283\n",
      "Epoch 9/10\n",
      "\u001b[1m525/525\u001b[0m \u001b[32m━━━━━━━━━━━━━━━━━━━━\u001b[0m\u001b[37m\u001b[0m \u001b[1m21s\u001b[0m 41ms/step - accuracy: 0.9945 - loss: 0.0180 - val_accuracy: 0.9910 - val_loss: 0.0400\n",
      "Epoch 10/10\n",
      "\u001b[1m525/525\u001b[0m \u001b[32m━━━━━━━━━━━━━━━━━━━━\u001b[0m\u001b[37m\u001b[0m \u001b[1m21s\u001b[0m 40ms/step - accuracy: 0.9947 - loss: 0.0143 - val_accuracy: 0.9915 - val_loss: 0.0282\n"
     ]
    }
   ],
   "source": [
    "history = model.fit(X_train, y_train, epochs=10, batch_size=64, validation_data=(X_val, y_val))"
   ]
  },
  {
   "cell_type": "code",
   "execution_count": null,
   "id": "391ba366-d062-49c4-8780-d2f94d555ded",
   "metadata": {},
   "outputs": [],
   "source": []
  }
 ],
 "metadata": {
  "kernelspec": {
   "display_name": "Python 3 (ipykernel)",
   "language": "python",
   "name": "python3"
  },
  "language_info": {
   "codemirror_mode": {
    "name": "ipython",
    "version": 3
   },
   "file_extension": ".py",
   "mimetype": "text/x-python",
   "name": "python",
   "nbconvert_exporter": "python",
   "pygments_lexer": "ipython3",
   "version": "3.10.18"
  }
 },
 "nbformat": 4,
 "nbformat_minor": 5
}
